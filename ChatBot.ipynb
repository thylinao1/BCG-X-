{
 "cells": [
  {
   "cell_type": "code",
   "execution_count": 21,
   "id": "875788b6-08de-45ce-acd3-1ad827f23202",
   "metadata": {},
   "outputs": [],
   "source": [
    "import pandas as pd\n",
    "from pathlib import Path\n",
    "from IPython.display import Markdown, display"
   ]
  },
  {
   "cell_type": "code",
   "execution_count": 22,
   "id": "1b8cf549-1170-4455-80b7-b2cee7f3f8b1",
   "metadata": {},
   "outputs": [],
   "source": [
    "file = Path(\"10-K_Financials__USD_millions_.csv\")\n",
    "df = pd.read_csv(file)"
   ]
  },
  {
   "cell_type": "code",
   "execution_count": 23,
   "id": "75f34664-7443-4965-8783-bbde081f8fd2",
   "metadata": {},
   "outputs": [
    {
     "data": {
      "text/html": [
       "<div>\n",
       "<style scoped>\n",
       "    .dataframe tbody tr th:only-of-type {\n",
       "        vertical-align: middle;\n",
       "    }\n",
       "\n",
       "    .dataframe tbody tr th {\n",
       "        vertical-align: top;\n",
       "    }\n",
       "\n",
       "    .dataframe thead th {\n",
       "        text-align: right;\n",
       "    }\n",
       "</style>\n",
       "<table border=\"1\" class=\"dataframe\">\n",
       "  <thead>\n",
       "    <tr style=\"text-align: right;\">\n",
       "      <th></th>\n",
       "      <th>Company</th>\n",
       "      <th>Fiscal Year</th>\n",
       "      <th>Fiscal Year End</th>\n",
       "      <th>Total Revenue (USDm)</th>\n",
       "      <th>Net Income (USDm)</th>\n",
       "      <th>Total Assets (USDm)</th>\n",
       "      <th>Total Liabilities (USDm)</th>\n",
       "      <th>Cash Flow from Operating Activities (USDm)</th>\n",
       "    </tr>\n",
       "  </thead>\n",
       "  <tbody>\n",
       "    <tr>\n",
       "      <th>0</th>\n",
       "      <td>Apple</td>\n",
       "      <td>2024</td>\n",
       "      <td>2024-09-28</td>\n",
       "      <td>391035</td>\n",
       "      <td>93736</td>\n",
       "      <td>364980</td>\n",
       "      <td>308030</td>\n",
       "      <td>118254</td>\n",
       "    </tr>\n",
       "    <tr>\n",
       "      <th>1</th>\n",
       "      <td>Apple</td>\n",
       "      <td>2023</td>\n",
       "      <td>2023-09-30</td>\n",
       "      <td>383285</td>\n",
       "      <td>96995</td>\n",
       "      <td>352583</td>\n",
       "      <td>290437</td>\n",
       "      <td>110543</td>\n",
       "    </tr>\n",
       "    <tr>\n",
       "      <th>2</th>\n",
       "      <td>Apple</td>\n",
       "      <td>2022</td>\n",
       "      <td>2022-09-24</td>\n",
       "      <td>394328</td>\n",
       "      <td>99803</td>\n",
       "      <td>352755</td>\n",
       "      <td>302083</td>\n",
       "      <td>122151</td>\n",
       "    </tr>\n",
       "    <tr>\n",
       "      <th>3</th>\n",
       "      <td>Microsoft</td>\n",
       "      <td>2024</td>\n",
       "      <td>2024-06-30</td>\n",
       "      <td>245122</td>\n",
       "      <td>88136</td>\n",
       "      <td>512163</td>\n",
       "      <td>243686</td>\n",
       "      <td>118548</td>\n",
       "    </tr>\n",
       "    <tr>\n",
       "      <th>4</th>\n",
       "      <td>Microsoft</td>\n",
       "      <td>2023</td>\n",
       "      <td>2023-06-30</td>\n",
       "      <td>211915</td>\n",
       "      <td>72361</td>\n",
       "      <td>411976</td>\n",
       "      <td>205753</td>\n",
       "      <td>87582</td>\n",
       "    </tr>\n",
       "  </tbody>\n",
       "</table>\n",
       "</div>"
      ],
      "text/plain": [
       "     Company  Fiscal Year Fiscal Year End  Total Revenue (USDm)  \\\n",
       "0      Apple         2024      2024-09-28                391035   \n",
       "1      Apple         2023      2023-09-30                383285   \n",
       "2      Apple         2022      2022-09-24                394328   \n",
       "3  Microsoft         2024      2024-06-30                245122   \n",
       "4  Microsoft         2023      2023-06-30                211915   \n",
       "\n",
       "   Net Income (USDm)  Total Assets (USDm)  Total Liabilities (USDm)  \\\n",
       "0              93736               364980                    308030   \n",
       "1              96995               352583                    290437   \n",
       "2              99803               352755                    302083   \n",
       "3              88136               512163                    243686   \n",
       "4              72361               411976                    205753   \n",
       "\n",
       "   Cash Flow from Operating Activities (USDm)  \n",
       "0                                      118254  \n",
       "1                                      110543  \n",
       "2                                      122151  \n",
       "3                                      118548  \n",
       "4                                       87582  "
      ]
     },
     "execution_count": 23,
     "metadata": {},
     "output_type": "execute_result"
    }
   ],
   "source": [
    "df.head()"
   ]
  },
  {
   "cell_type": "code",
   "execution_count": 24,
   "id": "38b853f0-6432-4c5f-ac75-70f329472b87",
   "metadata": {},
   "outputs": [
    {
     "name": "stdout",
     "output_type": "stream",
     "text": [
      "Chatbot. Type one of the 10 questions below, or 'exit'.\n",
      "\n",
      "1) what is the revenue for the companies\n",
      "2) what is the net income for the companies\n",
      "3) show operating cash flow for the companies\n",
      "4) show total assets for the companies\n",
      "5) show total liabilities for the companies\n",
      "6) show company, year, revenue, net income\n",
      "7) list companies\n",
      "8) list years\n",
      "9) show latest for microsoft\n",
      "10) show latest for tesla\n",
      "\n"
     ]
    },
    {
     "name": "stdin",
     "output_type": "stream",
     "text": [
      ">  show operating cash flow for the companies\n"
     ]
    },
    {
     "name": "stdout",
     "output_type": "stream",
     "text": [
      "     Company  Fiscal Year  Cash Flow from Operating Activities (USDm)\n",
      "0      Apple         2024                                      118254\n",
      "1      Apple         2023                                      110543\n",
      "2      Apple         2022                                      122151\n",
      "3  Microsoft         2024                                      118548\n",
      "4  Microsoft         2023                                       87582\n",
      "5  Microsoft         2022                                       89035\n",
      "6      Tesla         2024                                       14923\n",
      "7      Tesla         2023                                       13256\n",
      "8      Tesla         2022                                       14724\n"
     ]
    },
    {
     "name": "stdin",
     "output_type": "stream",
     "text": [
      ">  show latest for microsoft\n"
     ]
    },
    {
     "name": "stdout",
     "output_type": "stream",
     "text": [
      "     Company  Fiscal Year  Total Revenue (USDm)  Net Income (USDm)\n",
      "3  Microsoft         2024                245122              88136\n"
     ]
    },
    {
     "name": "stdin",
     "output_type": "stream",
     "text": [
      ">  show total liabilities for the companies\n"
     ]
    },
    {
     "name": "stdout",
     "output_type": "stream",
     "text": [
      "     Company  Fiscal Year  Total Liabilities (USDm)\n",
      "0      Apple         2024                    308030\n",
      "1      Apple         2023                    290437\n",
      "2      Apple         2022                    302083\n",
      "3  Microsoft         2024                    243686\n",
      "4  Microsoft         2023                    205753\n",
      "5  Microsoft         2022                    198298\n",
      "6      Tesla         2024                     48390\n",
      "7      Tesla         2023                     43009\n",
      "8      Tesla         2022                     36440\n"
     ]
    },
    {
     "name": "stdin",
     "output_type": "stream",
     "text": [
      ">  which one should I invest in?\n"
     ]
    },
    {
     "name": "stdout",
     "output_type": "stream",
     "text": [
      "This question isn't in the 10 predefined ones. I'll connect you to an agent.\n"
     ]
    },
    {
     "name": "stdin",
     "output_type": "stream",
     "text": [
      ">  quit\n"
     ]
    },
    {
     "name": "stdout",
     "output_type": "stream",
     "text": [
      "Bye!\n"
     ]
    }
   ],
   "source": [
    "print(\"Chatbot. Type one of the 10 questions below, or 'exit'.\\n\")\n",
    "print(\n",
    "    \"1) what is the revenue for the companies\\n\"\n",
    "    \"2) what is the net income for the companies\\n\"\n",
    "    \"3) show operating cash flow for the companies\\n\"\n",
    "    \"4) show total assets for the companies\\n\"\n",
    "    \"5) show total liabilities for the companies\\n\"\n",
    "    \"6) show company, year, revenue, net income\\n\"\n",
    "    \"7) list companies\\n\"\n",
    "    \"8) list years\\n\"\n",
    "    \"9) show latest for microsoft\\n\"\n",
    "    \"10) show latest for tesla\\n\"\n",
    ")\n",
    "\n",
    "while True:\n",
    "    try:\n",
    "        q = input(\"> \").strip().lower()\n",
    "    except (EOFError, KeyboardInterrupt):\n",
    "        print(\"\\nBye!\")\n",
    "        break\n",
    "\n",
    "    if q in (\"exit\", \"quit\"):\n",
    "        print(\"Bye!\")\n",
    "        break\n",
    "\n",
    "    if q == \"what is the revenue for the companies\":\n",
    "        print(df[[\"Company\", \"Fiscal Year\", \"Total Revenue (USDm)\"]])\n",
    "\n",
    "    elif q == \"what is the net income for the companies\":\n",
    "        print(df[[\"Company\", \"Fiscal Year\", \"Net Income (USDm)\"]])\n",
    "\n",
    "    elif q == \"show operating cash flow for the companies\":\n",
    "        print(df[[\"Company\", \"Fiscal Year\", \"Cash Flow from Operating Activities (USDm)\"]])\n",
    "\n",
    "    elif q == \"show total assets for the companies\":\n",
    "        print(df[[\"Company\", \"Fiscal Year\", \"Total Assets (USDm)\"]])\n",
    "\n",
    "    elif q == \"show total liabilities for the companies\":\n",
    "        print(df[[\"Company\", \"Fiscal Year\", \"Total Liabilities (USDm)\"]])\n",
    "\n",
    "    elif q == \"show company, year, revenue, net income\":\n",
    "        print(df[[\"Company\", \"Fiscal Year\", \"Total Revenue (USDm)\", \"Net Income (USDm)\"]])\n",
    "\n",
    "    elif q == \"list companies\":\n",
    "        print(df[\"Company\"].unique())\n",
    "\n",
    "    elif q == \"list years\":\n",
    "        print(df[\"Fiscal Year\"].unique())\n",
    "\n",
    "    elif q == \"show latest for microsoft\":\n",
    "        sub = df[df[\"Company\"] == \"Microsoft\"]\n",
    "        latest = sub[sub[\"Fiscal Year\"] == sub[\"Fiscal Year\"].max()]\n",
    "        print(latest[[\"Company\", \"Fiscal Year\", \"Total Revenue (USDm)\", \"Net Income (USDm)\"]])\n",
    "\n",
    "    elif q == \"show latest for tesla\":\n",
    "        sub = df[df[\"Company\"] == \"Tesla\"]\n",
    "        latest = sub[sub[\"Fiscal Year\"] == sub[\"Fiscal Year\"].max()]\n",
    "        print(latest[[\"Company\", \"Fiscal Year\", \"Total Revenue (USDm)\", \"Net Income (USDm)\"]])\n",
    "\n",
    "    else:\n",
    "        print(\"This question isn't in the 10 predefined ones. I'll connect you to an agent.\")\n",
    "\n"
   ]
  },
  {
   "cell_type": "code",
   "execution_count": null,
   "id": "d6f2cdbe-5811-470a-9b4b-ed7175e1b36d",
   "metadata": {},
   "outputs": [],
   "source": []
  }
 ],
 "metadata": {
  "kernelspec": {
   "display_name": "Python (tf-macos)",
   "language": "python",
   "name": "tf-macos"
  },
  "language_info": {
   "codemirror_mode": {
    "name": "ipython",
    "version": 3
   },
   "file_extension": ".py",
   "mimetype": "text/x-python",
   "name": "python",
   "nbconvert_exporter": "python",
   "pygments_lexer": "ipython3",
   "version": "3.10.18"
  }
 },
 "nbformat": 4,
 "nbformat_minor": 5
}
